{
 "cells": [
  {
   "cell_type": "code",
   "execution_count": 3,
   "metadata": {},
   "outputs": [
    {
     "name": "stdout",
     "output_type": "stream",
     "text": [
      "Requirement already satisfied: pandas in ./.venv/lib/python3.9/site-packages (2.3.1)\n",
      "Requirement already satisfied: numpy>=1.22.4 in ./.venv/lib/python3.9/site-packages (from pandas) (2.0.2)\n",
      "Requirement already satisfied: tzdata>=2022.7 in ./.venv/lib/python3.9/site-packages (from pandas) (2025.2)\n",
      "Requirement already satisfied: python-dateutil>=2.8.2 in ./.venv/lib/python3.9/site-packages (from pandas) (2.9.0.post0)\n",
      "Requirement already satisfied: pytz>=2020.1 in ./.venv/lib/python3.9/site-packages (from pandas) (2025.2)\n",
      "Requirement already satisfied: six>=1.5 in ./.venv/lib/python3.9/site-packages (from python-dateutil>=2.8.2->pandas) (1.17.0)\n",
      "\u001b[33mWARNING: You are using pip version 21.3.1; however, version 25.2 is available.\n",
      "You should consider upgrading via the '/home/ec2-user/projects/summer-data-analysis/.venv/bin/python -m pip install --upgrade pip' command.\u001b[0m\n"
     ]
    }
   ],
   "source": [
    "!pip install pandas"
   ]
  },
  {
   "cell_type": "code",
   "execution_count": 4,
   "id": "c68c0b44",
   "metadata": {},
   "outputs": [
    {
     "name": "stdout",
     "output_type": "stream",
     "text": [
      "fatal error: Unable to locate credentials\n"
     ]
    }
   ],
   "source": [
    "!aws s3 cp \"s3://csu-summer-camp-retain-atrisk-students-2025/Data/MainData AY 23-24 Oct 2023.csv\" ."
   ]
  },
  {
   "cell_type": "code",
   "execution_count": 5,
   "id": "26a50d37",
   "metadata": {},
   "outputs": [],
   "source": [
    "import pandas as pd"
   ]
  },
  {
   "cell_type": "code",
   "execution_count": 6,
   "id": "efd4ba57",
   "metadata": {},
   "outputs": [
    {
     "data": {
      "text/html": [
       "<div>\n",
       "<style scoped>\n",
       "    .dataframe tbody tr th:only-of-type {\n",
       "        vertical-align: middle;\n",
       "    }\n",
       "\n",
       "    .dataframe tbody tr th {\n",
       "        vertical-align: top;\n",
       "    }\n",
       "\n",
       "    .dataframe thead th {\n",
       "        text-align: right;\n",
       "    }\n",
       "</style>\n",
       "<table border=\"1\" class=\"dataframe\">\n",
       "  <thead>\n",
       "    <tr style=\"text-align: right;\">\n",
       "      <th></th>\n",
       "      <th>Month</th>\n",
       "      <th>RowID</th>\n",
       "      <th>Response ID</th>\n",
       "      <th>Overall, how satisfied are you with your experience living on campus at SDSU in the last 30 days?</th>\n",
       "      <th>Please explain why you are not satisfied with your experience living on campus at SDSU:</th>\n",
       "      <th>Front Desk</th>\n",
       "      <th>Wepa Printing Kiosk</th>\n",
       "      <th>Laundry Facilities</th>\n",
       "      <th>Outdoor Recreation Facilities (pool, patio, fire pit, etc.)</th>\n",
       "      <th>The UPS Store</th>\n",
       "      <th>...</th>\n",
       "      <th>Country</th>\n",
       "      <th>Residency</th>\n",
       "      <th>RLC_Updated</th>\n",
       "      <th>RLC_GroupCoded</th>\n",
       "      <th>Coded_RoomType</th>\n",
       "      <th>Coded_ClassLevel</th>\n",
       "      <th>Classification</th>\n",
       "      <th>Gender</th>\n",
       "      <th>Type of Building</th>\n",
       "      <th>AttendStatus</th>\n",
       "    </tr>\n",
       "  </thead>\n",
       "  <tbody>\n",
       "    <tr>\n",
       "      <th>0</th>\n",
       "      <td>October</td>\n",
       "      <td>101</td>\n",
       "      <td>R_Y3LSnMS91cFvTUZ</td>\n",
       "      <td>Satisfied</td>\n",
       "      <td>Did not answer</td>\n",
       "      <td>Yes</td>\n",
       "      <td>Yes</td>\n",
       "      <td>Yes</td>\n",
       "      <td>Yes</td>\n",
       "      <td>Yes</td>\n",
       "      <td>...</td>\n",
       "      <td>United States of America</td>\n",
       "      <td>California Resident</td>\n",
       "      <td>No Theme or Residential Learning/Living Community</td>\n",
       "      <td>No Learning Community</td>\n",
       "      <td>Single</td>\n",
       "      <td>Junior</td>\n",
       "      <td>Returning</td>\n",
       "      <td>M</td>\n",
       "      <td>Sophomore and Upper Div</td>\n",
       "      <td>ATTENDING</td>\n",
       "    </tr>\n",
       "    <tr>\n",
       "      <th>1</th>\n",
       "      <td>October</td>\n",
       "      <td>677</td>\n",
       "      <td>R_1MSpOeErO1vMEno</td>\n",
       "      <td>Satisfied</td>\n",
       "      <td>Did not answer</td>\n",
       "      <td>Yes</td>\n",
       "      <td>No</td>\n",
       "      <td>Yes</td>\n",
       "      <td>Yes</td>\n",
       "      <td>Yes</td>\n",
       "      <td>...</td>\n",
       "      <td>India</td>\n",
       "      <td>Foreign</td>\n",
       "      <td>No Theme or Residential Learning/Living Community</td>\n",
       "      <td>No Learning Community</td>\n",
       "      <td>Single</td>\n",
       "      <td>Freshman</td>\n",
       "      <td>Continuing</td>\n",
       "      <td>M</td>\n",
       "      <td>Sophomore and Upper Div</td>\n",
       "      <td>ATTENDING</td>\n",
       "    </tr>\n",
       "    <tr>\n",
       "      <th>2</th>\n",
       "      <td>October</td>\n",
       "      <td>667</td>\n",
       "      <td>R_28zIRj9xXv5UT2p</td>\n",
       "      <td>Satisfied</td>\n",
       "      <td>Did not answer</td>\n",
       "      <td>Yes</td>\n",
       "      <td>Not Applicable</td>\n",
       "      <td>Yes</td>\n",
       "      <td>No</td>\n",
       "      <td>Yes</td>\n",
       "      <td>...</td>\n",
       "      <td>United States of America</td>\n",
       "      <td>California Resident</td>\n",
       "      <td>No Theme or Residential Learning/Living Community</td>\n",
       "      <td>No Learning Community</td>\n",
       "      <td>Student Leader/Staff</td>\n",
       "      <td>Graduate</td>\n",
       "      <td>Graduate</td>\n",
       "      <td>F</td>\n",
       "      <td>Sophomore and Upper Div</td>\n",
       "      <td>ATTENDING</td>\n",
       "    </tr>\n",
       "    <tr>\n",
       "      <th>3</th>\n",
       "      <td>October</td>\n",
       "      <td>270</td>\n",
       "      <td>R_2CqOiVX3yrj9Rd4</td>\n",
       "      <td>Satisfied</td>\n",
       "      <td>Did not answer</td>\n",
       "      <td>Yes</td>\n",
       "      <td>Yes</td>\n",
       "      <td>Yes</td>\n",
       "      <td>Yes</td>\n",
       "      <td>Yes</td>\n",
       "      <td>...</td>\n",
       "      <td>United States of America</td>\n",
       "      <td>California Resident</td>\n",
       "      <td>No Theme or Residential Learning/Living Community</td>\n",
       "      <td>No Learning Community</td>\n",
       "      <td>Student Leader/Staff</td>\n",
       "      <td>Senior</td>\n",
       "      <td>Returning</td>\n",
       "      <td>M</td>\n",
       "      <td>First Year</td>\n",
       "      <td>ATTENDING</td>\n",
       "    </tr>\n",
       "    <tr>\n",
       "      <th>4</th>\n",
       "      <td>October</td>\n",
       "      <td>341</td>\n",
       "      <td>R_3Jla1YNQA0hntPd</td>\n",
       "      <td>Satisfied</td>\n",
       "      <td>Did not answer</td>\n",
       "      <td>Not Applicable</td>\n",
       "      <td>Not Applicable</td>\n",
       "      <td>Yes</td>\n",
       "      <td>Not Applicable</td>\n",
       "      <td>Yes</td>\n",
       "      <td>...</td>\n",
       "      <td>United States of America</td>\n",
       "      <td>Out of State</td>\n",
       "      <td>No Theme or Residential Learning/Living Community</td>\n",
       "      <td>No Learning Community</td>\n",
       "      <td>Double</td>\n",
       "      <td>Sophomore</td>\n",
       "      <td>Returning</td>\n",
       "      <td>F</td>\n",
       "      <td>Sophomore and Upper Div</td>\n",
       "      <td>ATTENDING</td>\n",
       "    </tr>\n",
       "  </tbody>\n",
       "</table>\n",
       "<p>5 rows × 96 columns</p>\n",
       "</div>"
      ],
      "text/plain": [
       "     Month  RowID        Response ID  \\\n",
       "0  October    101  R_Y3LSnMS91cFvTUZ   \n",
       "1  October    677  R_1MSpOeErO1vMEno   \n",
       "2  October    667  R_28zIRj9xXv5UT2p   \n",
       "3  October    270  R_2CqOiVX3yrj9Rd4   \n",
       "4  October    341  R_3Jla1YNQA0hntPd   \n",
       "\n",
       "  Overall, how satisfied are you with your experience living on campus at SDSU in the last 30 days?  \\\n",
       "0                                          Satisfied                                                  \n",
       "1                                          Satisfied                                                  \n",
       "2                                          Satisfied                                                  \n",
       "3                                          Satisfied                                                  \n",
       "4                                          Satisfied                                                  \n",
       "\n",
       "  Please explain why you are not satisfied with your experience living on campus at SDSU:  \\\n",
       "0                                     Did not answer                                        \n",
       "1                                     Did not answer                                        \n",
       "2                                     Did not answer                                        \n",
       "3                                     Did not answer                                        \n",
       "4                                     Did not answer                                        \n",
       "\n",
       "       Front Desk Wepa Printing Kiosk Laundry Facilities  \\\n",
       "0             Yes                 Yes                Yes   \n",
       "1             Yes                  No                Yes   \n",
       "2             Yes      Not Applicable                Yes   \n",
       "3             Yes                 Yes                Yes   \n",
       "4  Not Applicable      Not Applicable                Yes   \n",
       "\n",
       "  Outdoor Recreation Facilities (pool, patio, fire pit, etc.) The UPS Store  \\\n",
       "0                                                Yes                    Yes   \n",
       "1                                                Yes                    Yes   \n",
       "2                                                 No                    Yes   \n",
       "3                                                Yes                    Yes   \n",
       "4                                     Not Applicable                    Yes   \n",
       "\n",
       "   ...                   Country            Residency  \\\n",
       "0  ...  United States of America  California Resident   \n",
       "1  ...                     India              Foreign   \n",
       "2  ...  United States of America  California Resident   \n",
       "3  ...  United States of America  California Resident   \n",
       "4  ...  United States of America         Out of State   \n",
       "\n",
       "                                         RLC_Updated         RLC_GroupCoded  \\\n",
       "0  No Theme or Residential Learning/Living Community  No Learning Community   \n",
       "1  No Theme or Residential Learning/Living Community  No Learning Community   \n",
       "2  No Theme or Residential Learning/Living Community  No Learning Community   \n",
       "3  No Theme or Residential Learning/Living Community  No Learning Community   \n",
       "4  No Theme or Residential Learning/Living Community  No Learning Community   \n",
       "\n",
       "         Coded_RoomType Coded_ClassLevel Classification Gender  \\\n",
       "0                Single           Junior      Returning      M   \n",
       "1                Single         Freshman     Continuing      M   \n",
       "2  Student Leader/Staff         Graduate       Graduate      F   \n",
       "3  Student Leader/Staff           Senior      Returning      M   \n",
       "4                Double        Sophomore      Returning      F   \n",
       "\n",
       "          Type of Building AttendStatus  \n",
       "0  Sophomore and Upper Div    ATTENDING  \n",
       "1  Sophomore and Upper Div    ATTENDING  \n",
       "2  Sophomore and Upper Div    ATTENDING  \n",
       "3               First Year    ATTENDING  \n",
       "4  Sophomore and Upper Div    ATTENDING  \n",
       "\n",
       "[5 rows x 96 columns]"
      ]
     },
     "execution_count": 6,
     "metadata": {},
     "output_type": "execute_result"
    }
   ],
   "source": [
    "df = pd.read_csv(\"data.csv\")\n",
    "\n",
    "df.head()"
   ]
  },
  {
   "cell_type": "code",
   "execution_count": null,
   "id": "563260f9",
   "metadata": {},
   "outputs": [],
   "source": []
  },
  {
   "cell_type": "code",
   "execution_count": 7,
   "id": "6c971943",
   "metadata": {},
   "outputs": [
    {
     "data": {
      "text/plain": [
       "Index(['Month', 'RowID', 'Response ID',\n",
       "       'Overall, how satisfied are you with your experience living on campus at SDSU in the last 30 days?',\n",
       "       'Please explain why you are not satisfied with your experience living on campus at SDSU:',\n",
       "       'Front Desk', 'Wepa Printing Kiosk', 'Laundry Facilities',\n",
       "       'Outdoor Recreation Facilities (pool, patio, fire pit, etc.)',\n",
       "       'The UPS Store', 'Streeme TV or Cable', 'WiFi',\n",
       "       'Residential Bike Storage and Bike Racks', 'Surfboard Storage',\n",
       "       'Community Study Areas', 'Community Kitchens', 'Vending Machines',\n",
       "       'Have you utilized a STAR Center in the last 30 days?',\n",
       "       'Please explain why you are not using the Star Center:',\n",
       "       'Cleanliness of your residential community common areas (bathrooms, laundry rooms, hallways, lounges)',\n",
       "       'Maintenance of your residential community (furniture, utilities, appliances)',\n",
       "       'Amenities of your residential community (i.e., wifi, lounges, furniture, laundry, outdoor recreational spaces)',\n",
       "       'Please explain why you are unsatisfied with the Cleanliness, Maintenance, or Amenities of your residential community:',\n",
       "       'Within your residential community', 'Overall on campus',\n",
       "       'Off campus, but within 1 mile of the university',\n",
       "       'Please tell us how the safety conditions on campus can be improved:',\n",
       "       'Have you submitted a service request in the last 30 days?',\n",
       "       'Please select the reason for why you have not submitted a service request in the last 30 days: - Selected Choice',\n",
       "       'Other, please specify Text for why you have not submitted a service request in the last 30 days',\n",
       "       'To what degree do you agree or disagree with the following statement? I consider the responsibility of keeping the communal areas (bathrooms, laundry rooms, hallways, lounge) tidy as a shared responsibility amongst residents.',\n",
       "       'How many total people live in your suite or apartment unit?',\n",
       "       'In the last 30 days, how would you describe your relationship with your roommate(s)? - Selected Choice',\n",
       "       'Other, please specify Text for how would you describe your relationship with your roommate(s) in last 30 days?',\n",
       "       'I initiate open communication and discussion',\n",
       "       'I seek advice from my parents or family',\n",
       "       'I use the Shared Living Agreement to guide discussion/conversation',\n",
       "       'I seek assistance from my student leader (RA or CA)',\n",
       "       'I seek assistance from my residence hall coordinator (RHC)',\n",
       "       'I have submitted a room switch request due to a roommate conflict',\n",
       "       'I avoid conflict or confrontation, so I don't address the issue.',\n",
       "       'My roommate(s) and I do not have any conflicts',\n",
       "       'You have indicated you have not reached out for support from your Residence Hall Coordinator (RHC) or student leader (RA or CA), please tell us why:',\n",
       "       'Feeling a sense of belonging within the university community (Sense of belonging is the feeling that we have satisfied our emotional need to belong to a community or group because we feel accepted, included, respected, and supported by a group)',\n",
       "       'Forming meaningful connections and friendships with other students within the university community',\n",
       "       'Feeling the university supports my personal and academic development',\n",
       "       'How can we improve your sense of belonging within the university community?',\n",
       "       'Attended a floor event or program',\n",
       "       'Participated in Hall/Community Council or an RHA event',\n",
       "       'Participated in an affinity group event',\n",
       "       'Why didn't you participate in activities or events in your residential community?',\n",
       "       'Attended a campus event',\n",
       "       'Participated in a campus club or organization',\n",
       "       'Participated in Greek life', 'Participated in undergraduate research',\n",
       "       'Participated in an internship on campus',\n",
       "       'Participated in an internship off campus', 'Worked a job on campus',\n",
       "       'Worked a job off campus',\n",
       "       'Participated in a religious or spiritual group',\n",
       "       'Participated in a volunteer or community service organization',\n",
       "       'Other for have you participated in the following extracurricular activities or events In the last 30 days?',\n",
       "       'Other, please specify te for have you participated in the following extracurricular activities or events In the last 30 days?',\n",
       "       'Fellow students in my residential community',\n",
       "       'Student leaders (RA or CA)', 'Residence Hall Coordinator (RHC)',\n",
       "       'Coordinated Care Advisor (CCA)',\n",
       "       'One-on-one meetings with professors or instructors',\n",
       "       'Major or program advisor',\n",
       "       'Classmates or fellow students in my program or courses',\n",
       "       'Campus staff (administrative, support, or service staff)',\n",
       "       'Eat at an on campus eatery (Food trucks, restaurants, food court)',\n",
       "       'Prepared a meal on my own', 'Eat with friends', 'Eat alone',\n",
       "       'how confident are you that you can make healthy food choices?',\n",
       "       'how confident are you in preparing a nutritious, healthy meal for yourself?',\n",
       "       'Have you reached out to Well-being & Health Promotion for nutritional resources? If not, why not?',\n",
       "       'How would you rate your mental health during the last 30 days?',\n",
       "       'Have you reached out to SDSU Counseling and Psychological Services for mental health resources? If not, why not?',\n",
       "       'How would you rate your physical health during the last 30 days?',\n",
       "       'Have you reached out to Student Health Services for physical health resources? If not, why not?',\n",
       "       'In the last 30 days, have you been physically ill (e.g., flu, cold, etc.)?',\n",
       "       'Did you receive a medical diagnosis for your illness?', 'Hall',\n",
       "       'State', 'Country', 'Residency', 'RLC_Updated', 'RLC_GroupCoded',\n",
       "       'Coded_RoomType', 'Coded_ClassLevel', 'Classification', 'Gender',\n",
       "       'Type of Building', 'AttendStatus'],\n",
       "      dtype='object')"
      ]
     },
     "execution_count": 7,
     "metadata": {},
     "output_type": "execute_result"
    }
   ],
   "source": [
    "df.columns"
   ]
  },
  {
   "cell_type": "code",
   "execution_count": null,
   "id": "e6f53e7a",
   "metadata": {},
   "outputs": [],
   "source": []
  },
  {
   "cell_type": "code",
   "execution_count": 8,
   "id": "1103d094",
   "metadata": {},
   "outputs": [
    {
     "name": "stdout",
     "output_type": "stream",
     "text": [
      "Requirement already satisfied: matplotlib in ./.venv/lib/python3.9/site-packages (3.9.4)\n",
      "Requirement already satisfied: importlib-resources>=3.2.0 in ./.venv/lib/python3.9/site-packages (from matplotlib) (6.5.2)\n",
      "Requirement already satisfied: contourpy>=1.0.1 in ./.venv/lib/python3.9/site-packages (from matplotlib) (1.3.0)\n",
      "Requirement already satisfied: fonttools>=4.22.0 in ./.venv/lib/python3.9/site-packages (from matplotlib) (4.59.0)\n",
      "Requirement already satisfied: pyparsing>=2.3.1 in ./.venv/lib/python3.9/site-packages (from matplotlib) (3.2.3)\n",
      "Requirement already satisfied: python-dateutil>=2.7 in ./.venv/lib/python3.9/site-packages (from matplotlib) (2.9.0.post0)\n",
      "Requirement already satisfied: numpy>=1.23 in ./.venv/lib/python3.9/site-packages (from matplotlib) (2.0.2)\n",
      "Requirement already satisfied: packaging>=20.0 in ./.venv/lib/python3.9/site-packages (from matplotlib) (25.0)\n",
      "Requirement already satisfied: cycler>=0.10 in ./.venv/lib/python3.9/site-packages (from matplotlib) (0.12.1)\n",
      "Requirement already satisfied: kiwisolver>=1.3.1 in ./.venv/lib/python3.9/site-packages (from matplotlib) (1.4.7)\n",
      "Requirement already satisfied: pillow>=8 in ./.venv/lib/python3.9/site-packages (from matplotlib) (11.3.0)\n",
      "Requirement already satisfied: zipp>=3.1.0 in ./.venv/lib/python3.9/site-packages (from importlib-resources>=3.2.0->matplotlib) (3.23.0)\n",
      "Requirement already satisfied: six>=1.5 in ./.venv/lib/python3.9/site-packages (from python-dateutil>=2.7->matplotlib) (1.17.0)\n",
      "\u001b[33mWARNING: You are using pip version 21.3.1; however, version 25.2 is available.\n",
      "You should consider upgrading via the '/home/ec2-user/projects/summer-data-analysis/.venv/bin/python -m pip install --upgrade pip' command.\u001b[0m\n"
     ]
    }
   ],
   "source": [
    "!pip install matplotlib"
   ]
  },
  {
   "cell_type": "code",
   "execution_count": 9,
   "id": "624db792",
   "metadata": {},
   "outputs": [
    {
     "data": {
      "text/plain": [
       "Gender\n",
       "F    570\n",
       "M    189\n",
       "U      3\n",
       "Name: count, dtype: int64"
      ]
     },
     "execution_count": 9,
     "metadata": {},
     "output_type": "execute_result"
    }
   ],
   "source": [
    "df[\"Gender\"].value_counts()"
   ]
  },
  {
   "cell_type": "code",
   "execution_count": 10,
   "id": "e4e34820",
   "metadata": {},
   "outputs": [
    {
     "data": {
      "text/plain": [
       "<Axes: xlabel='Gender'>"
      ]
     },
     "execution_count": 10,
     "metadata": {},
     "output_type": "execute_result"
    },
    {
     "data": {
      "image/png": "[encoded data removed]",
      "text/plain": [
       "<Figure size 640x480 with 1 Axes>"
      ]
     },
     "metadata": {},
     "output_type": "display_data"
    }
   ],
   "source": [
    "df[\"Gender\"].value_counts().plot(kind=\"bar\")"
   ]
  },
  {
   "cell_type": "code",
   "execution_count": 11,
   "id": "f4a2a0f5",
   "metadata": {},
   "outputs": [
    {
     "ename": "KeyError",
     "evalue": "\"['GPA'] not in index\"",
     "output_type": "error",
     "traceback": [
      "\u001b[0;31m---------------------------------------------------------------------------\u001b[0m",
      "\u001b[0;31mKeyError\u001b[0m                                  Traceback (most recent call last)",
      "Cell \u001b[0;32mIn[11], line 1\u001b[0m\n\u001b[0;32m----> 1\u001b[0m df \u001b[38;5;241m=\u001b[39m \u001b[43mdf\u001b[49m\u001b[43m[\u001b[49m\u001b[43m[\u001b[49m\u001b[38;5;124;43m\"\u001b[39;49m\u001b[38;5;124;43mRLC_GroupCoded\u001b[39;49m\u001b[38;5;124;43m\"\u001b[39;49m\u001b[43m,\u001b[49m\u001b[43m \u001b[49m\u001b[38;5;124;43m\"\u001b[39;49m\u001b[38;5;124;43mAttended a campus event\u001b[39;49m\u001b[38;5;124;43m\"\u001b[39;49m\u001b[43m,\u001b[49m\u001b[43m \u001b[49m\u001b[38;5;124;43m\"\u001b[39;49m\u001b[38;5;124;43mParticipated in a religious or spiritual group\u001b[39;49m\u001b[38;5;124;43m\"\u001b[39;49m\u001b[43m,\u001b[49m\u001b[43m \u001b[49m\u001b[38;5;124;43m\"\u001b[39;49m\u001b[38;5;124;43mGPA\u001b[39;49m\u001b[38;5;124;43m\"\u001b[39;49m\u001b[43m]\u001b[49m\u001b[43m]\u001b[49m\n",
      "File \u001b[0;32m~/projects/summer-data-analysis/.venv/lib64/python3.9/site-packages/pandas/core/frame.py:4113\u001b[0m, in \u001b[0;36mDataFrame.__getitem__\u001b[0;34m(self, key)\u001b[0m\n\u001b[1;32m   4111\u001b[0m     \u001b[38;5;28;01mif\u001b[39;00m is_iterator(key):\n\u001b[1;32m   4112\u001b[0m         key \u001b[38;5;241m=\u001b[39m \u001b[38;5;28mlist\u001b[39m(key)\n\u001b[0;32m-> 4113\u001b[0m     indexer \u001b[38;5;241m=\u001b[39m \u001b[38;5;28;43mself\u001b[39;49m\u001b[38;5;241;43m.\u001b[39;49m\u001b[43mcolumns\u001b[49m\u001b[38;5;241;43m.\u001b[39;49m\u001b[43m_get_indexer_strict\u001b[49m\u001b[43m(\u001b[49m\u001b[43mkey\u001b[49m\u001b[43m,\u001b[49m\u001b[43m \u001b[49m\u001b[38;5;124;43m\"\u001b[39;49m\u001b[38;5;124;43mcolumns\u001b[39;49m\u001b[38;5;124;43m\"\u001b[39;49m\u001b[43m)\u001b[49m[\u001b[38;5;241m1\u001b[39m]\n\u001b[1;32m   4115\u001b[0m \u001b[38;5;66;03m# take() does not accept boolean indexers\u001b[39;00m\n\u001b[1;32m   4116\u001b[0m \u001b[38;5;28;01mif\u001b[39;00m \u001b[38;5;28mgetattr\u001b[39m(indexer, \u001b[38;5;124m\"\u001b[39m\u001b[38;5;124mdtype\u001b[39m\u001b[38;5;124m\"\u001b[39m, \u001b[38;5;28;01mNone\u001b[39;00m) \u001b[38;5;241m==\u001b[39m \u001b[38;5;28mbool\u001b[39m:\n",
      "File \u001b[0;32m~/projects/summer-data-analysis/.venv/lib64/python3.9/site-packages/pandas/core/indexes/base.py:6212\u001b[0m, in \u001b[0;36mIndex._get_indexer_strict\u001b[0;34m(self, key, axis_name)\u001b[0m\n\u001b[1;32m   6209\u001b[0m \u001b[38;5;28;01melse\u001b[39;00m:\n\u001b[1;32m   6210\u001b[0m     keyarr, indexer, new_indexer \u001b[38;5;241m=\u001b[39m \u001b[38;5;28mself\u001b[39m\u001b[38;5;241m.\u001b[39m_reindex_non_unique(keyarr)\n\u001b[0;32m-> 6212\u001b[0m \u001b[38;5;28;43mself\u001b[39;49m\u001b[38;5;241;43m.\u001b[39;49m\u001b[43m_raise_if_missing\u001b[49m\u001b[43m(\u001b[49m\u001b[43mkeyarr\u001b[49m\u001b[43m,\u001b[49m\u001b[43m \u001b[49m\u001b[43mindexer\u001b[49m\u001b[43m,\u001b[49m\u001b[43m \u001b[49m\u001b[43maxis_name\u001b[49m\u001b[43m)\u001b[49m\n\u001b[1;32m   6214\u001b[0m keyarr \u001b[38;5;241m=\u001b[39m \u001b[38;5;28mself\u001b[39m\u001b[38;5;241m.\u001b[39mtake(indexer)\n\u001b[1;32m   6215\u001b[0m \u001b[38;5;28;01mif\u001b[39;00m \u001b[38;5;28misinstance\u001b[39m(key, Index):\n\u001b[1;32m   6216\u001b[0m     \u001b[38;5;66;03m# GH 42790 - Preserve name from an Index\u001b[39;00m\n",
      "File \u001b[0;32m~/projects/summer-data-analysis/.venv/lib64/python3.9/site-packages/pandas/core/indexes/base.py:6264\u001b[0m, in \u001b[0;36mIndex._raise_if_missing\u001b[0;34m(self, key, indexer, axis_name)\u001b[0m\n\u001b[1;32m   6261\u001b[0m     \u001b[38;5;28;01mraise\u001b[39;00m \u001b[38;5;167;01mKeyError\u001b[39;00m(\u001b[38;5;124mf\u001b[39m\u001b[38;5;124m\"\u001b[39m\u001b[38;5;124mNone of [\u001b[39m\u001b[38;5;132;01m{\u001b[39;00mkey\u001b[38;5;132;01m}\u001b[39;00m\u001b[38;5;124m] are in the [\u001b[39m\u001b[38;5;132;01m{\u001b[39;00maxis_name\u001b[38;5;132;01m}\u001b[39;00m\u001b[38;5;124m]\u001b[39m\u001b[38;5;124m\"\u001b[39m)\n\u001b[1;32m   6263\u001b[0m not_found \u001b[38;5;241m=\u001b[39m \u001b[38;5;28mlist\u001b[39m(ensure_index(key)[missing_mask\u001b[38;5;241m.\u001b[39mnonzero()[\u001b[38;5;241m0\u001b[39m]]\u001b[38;5;241m.\u001b[39munique())\n\u001b[0;32m-> 6264\u001b[0m \u001b[38;5;28;01mraise\u001b[39;00m \u001b[38;5;167;01mKeyError\u001b[39;00m(\u001b[38;5;124mf\u001b[39m\u001b[38;5;124m\"\u001b[39m\u001b[38;5;132;01m{\u001b[39;00mnot_found\u001b[38;5;132;01m}\u001b[39;00m\u001b[38;5;124m not in index\u001b[39m\u001b[38;5;124m\"\u001b[39m)\n",
      "\u001b[0;31mKeyError\u001b[0m: \"['GPA'] not in index\""
     ]
    }
   ],
   "source": [
    "df = df[[\"RLC_GroupCoded\", \"Attended a campus event\", \"Participated in a religious or spiritual group\", \"GPA\"]]"
   ]
  },
  {
   "cell_type": "code",
   "execution_count": null,
   "id": "b52ab8b1",
   "metadata": {},
   "outputs": [
    {
     "data": {
      "text/html": [
       "<div>\n",
       "<style scoped>\n",
       "    .dataframe tbody tr th:only-of-type {\n",
       "        vertical-align: middle;\n",
       "    }\n",
       "\n",
       "    .dataframe tbody tr th {\n",
       "        vertical-align: top;\n",
       "    }\n",
       "\n",
       "    .dataframe thead th {\n",
       "        text-align: right;\n",
       "    }\n",
       "</style>\n",
       "<table border=\"1\" class=\"dataframe\">\n",
       "  <thead>\n",
       "    <tr style=\"text-align: right;\">\n",
       "      <th></th>\n",
       "      <th>RLC_GroupCoded</th>\n",
       "      <th>Attended a campus event</th>\n",
       "      <th>Participated in a religious or spiritual group</th>\n",
       "    </tr>\n",
       "  </thead>\n",
       "  <tbody>\n",
       "    <tr>\n",
       "      <th>0</th>\n",
       "      <td>No Learning Community</td>\n",
       "      <td>Yes</td>\n",
       "      <td>No</td>\n",
       "    </tr>\n",
       "    <tr>\n",
       "      <th>1</th>\n",
       "      <td>No Learning Community</td>\n",
       "      <td>Yes</td>\n",
       "      <td>Yes</td>\n",
       "    </tr>\n",
       "    <tr>\n",
       "      <th>2</th>\n",
       "      <td>No Learning Community</td>\n",
       "      <td>Yes</td>\n",
       "      <td>No</td>\n",
       "    </tr>\n",
       "    <tr>\n",
       "      <th>3</th>\n",
       "      <td>No Learning Community</td>\n",
       "      <td>Yes</td>\n",
       "      <td>Not Applicable</td>\n",
       "    </tr>\n",
       "    <tr>\n",
       "      <th>4</th>\n",
       "      <td>No Learning Community</td>\n",
       "      <td>Yes</td>\n",
       "      <td>No</td>\n",
       "    </tr>\n",
       "    <tr>\n",
       "      <th>...</th>\n",
       "      <td>...</td>\n",
       "      <td>...</td>\n",
       "      <td>...</td>\n",
       "    </tr>\n",
       "    <tr>\n",
       "      <th>757</th>\n",
       "      <td>No Learning Community</td>\n",
       "      <td>Yes</td>\n",
       "      <td>No</td>\n",
       "    </tr>\n",
       "    <tr>\n",
       "      <th>758</th>\n",
       "      <td>No Learning Community</td>\n",
       "      <td>Yes</td>\n",
       "      <td>Yes</td>\n",
       "    </tr>\n",
       "    <tr>\n",
       "      <th>759</th>\n",
       "      <td>Residential Learning Communities</td>\n",
       "      <td>No</td>\n",
       "      <td>No</td>\n",
       "    </tr>\n",
       "    <tr>\n",
       "      <th>760</th>\n",
       "      <td>Residential Learning Communities</td>\n",
       "      <td>Yes</td>\n",
       "      <td>No</td>\n",
       "    </tr>\n",
       "    <tr>\n",
       "      <th>761</th>\n",
       "      <td>No Learning Community</td>\n",
       "      <td>Yes</td>\n",
       "      <td>No</td>\n",
       "    </tr>\n",
       "  </tbody>\n",
       "</table>\n",
       "<p>762 rows × 3 columns</p>\n",
       "</div>"
      ],
      "text/plain": [
       "                       RLC_GroupCoded Attended a campus event  \\\n",
       "0               No Learning Community                     Yes   \n",
       "1               No Learning Community                     Yes   \n",
       "2               No Learning Community                     Yes   \n",
       "3               No Learning Community                     Yes   \n",
       "4               No Learning Community                     Yes   \n",
       "..                                ...                     ...   \n",
       "757             No Learning Community                     Yes   \n",
       "758             No Learning Community                     Yes   \n",
       "759  Residential Learning Communities                      No   \n",
       "760  Residential Learning Communities                     Yes   \n",
       "761             No Learning Community                     Yes   \n",
       "\n",
       "    Participated in a religious or spiritual group  \n",
       "0                                               No  \n",
       "1                                              Yes  \n",
       "2                                               No  \n",
       "3                                   Not Applicable  \n",
       "4                                               No  \n",
       "..                                             ...  \n",
       "757                                             No  \n",
       "758                                            Yes  \n",
       "759                                             No  \n",
       "760                                             No  \n",
       "761                                             No  \n",
       "\n",
       "[762 rows x 3 columns]"
      ]
     },
     "execution_count": 37,
     "metadata": {},
     "output_type": "execute_result"
    }
   ],
   "source": [
    "df"
   ]
  },
  {
   "cell_type": "code",
   "execution_count": null,
   "id": "0d7d7aad",
   "metadata": {},
   "outputs": [
    {
     "data": {
      "text/html": [
       "<div>\n",
       "<style scoped>\n",
       "    .dataframe tbody tr th:only-of-type {\n",
       "        vertical-align: middle;\n",
       "    }\n",
       "\n",
       "    .dataframe tbody tr th {\n",
       "        vertical-align: top;\n",
       "    }\n",
       "\n",
       "    .dataframe thead th {\n",
       "        text-align: right;\n",
       "    }\n",
       "</style>\n",
       "<table border=\"1\" class=\"dataframe\">\n",
       "  <thead>\n",
       "    <tr style=\"text-align: right;\">\n",
       "      <th></th>\n",
       "      <th>RLC_GroupCoded_No Learning Community</th>\n",
       "      <th>RLC_GroupCoded_Residential Learning Communities</th>\n",
       "      <th>RLC_GroupCoded_Thematic Living Communities</th>\n",
       "      <th>Attended a campus event_Did not answer</th>\n",
       "      <th>Attended a campus event_No</th>\n",
       "      <th>Attended a campus event_Not Applicable</th>\n",
       "      <th>Attended a campus event_Yes</th>\n",
       "      <th>Participated in a religious or spiritual group_Did not answer</th>\n",
       "      <th>Participated in a religious or spiritual group_No</th>\n",
       "      <th>Participated in a religious or spiritual group_Not Applicable</th>\n",
       "      <th>Participated in a religious or spiritual group_Yes</th>\n",
       "    </tr>\n",
       "  </thead>\n",
       "  <tbody>\n",
       "    <tr>\n",
       "      <th>0</th>\n",
       "      <td>True</td>\n",
       "      <td>False</td>\n",
       "      <td>False</td>\n",
       "      <td>False</td>\n",
       "      <td>False</td>\n",
       "      <td>False</td>\n",
       "      <td>True</td>\n",
       "      <td>False</td>\n",
       "      <td>True</td>\n",
       "      <td>False</td>\n",
       "      <td>False</td>\n",
       "    </tr>\n",
       "    <tr>\n",
       "      <th>1</th>\n",
       "      <td>True</td>\n",
       "      <td>False</td>\n",
       "      <td>False</td>\n",
       "      <td>False</td>\n",
       "      <td>False</td>\n",
       "      <td>False</td>\n",
       "      <td>True</td>\n",
       "      <td>False</td>\n",
       "      <td>False</td>\n",
       "      <td>False</td>\n",
       "      <td>True</td>\n",
       "    </tr>\n",
       "    <tr>\n",
       "      <th>2</th>\n",
       "      <td>True</td>\n",
       "      <td>False</td>\n",
       "      <td>False</td>\n",
       "      <td>False</td>\n",
       "      <td>False</td>\n",
       "      <td>False</td>\n",
       "      <td>True</td>\n",
       "      <td>False</td>\n",
       "      <td>True</td>\n",
       "      <td>False</td>\n",
       "      <td>False</td>\n",
       "    </tr>\n",
       "    <tr>\n",
       "      <th>3</th>\n",
       "      <td>True</td>\n",
       "      <td>False</td>\n",
       "      <td>False</td>\n",
       "      <td>False</td>\n",
       "      <td>False</td>\n",
       "      <td>False</td>\n",
       "      <td>True</td>\n",
       "      <td>False</td>\n",
       "      <td>False</td>\n",
       "      <td>True</td>\n",
       "      <td>False</td>\n",
       "    </tr>\n",
       "    <tr>\n",
       "      <th>4</th>\n",
       "      <td>True</td>\n",
       "      <td>False</td>\n",
       "      <td>False</td>\n",
       "      <td>False</td>\n",
       "      <td>False</td>\n",
       "      <td>False</td>\n",
       "      <td>True</td>\n",
       "      <td>False</td>\n",
       "      <td>True</td>\n",
       "      <td>False</td>\n",
       "      <td>False</td>\n",
       "    </tr>\n",
       "  </tbody>\n",
       "</table>\n",
       "</div>"
      ],
      "text/plain": [
       "   RLC_GroupCoded_No Learning Community  \\\n",
       "0                                  True   \n",
       "1                                  True   \n",
       "2                                  True   \n",
       "3                                  True   \n",
       "4                                  True   \n",
       "\n",
       "   RLC_GroupCoded_Residential Learning Communities  \\\n",
       "0                                            False   \n",
       "1                                            False   \n",
       "2                                            False   \n",
       "3                                            False   \n",
       "4                                            False   \n",
       "\n",
       "   RLC_GroupCoded_Thematic Living Communities  \\\n",
       "0                                       False   \n",
       "1                                       False   \n",
       "2                                       False   \n",
       "3                                       False   \n",
       "4                                       False   \n",
       "\n",
       "   Attended a campus event_Did not answer  Attended a campus event_No  \\\n",
       "0                                   False                       False   \n",
       "1                                   False                       False   \n",
       "2                                   False                       False   \n",
       "3                                   False                       False   \n",
       "4                                   False                       False   \n",
       "\n",
       "   Attended a campus event_Not Applicable  Attended a campus event_Yes  \\\n",
       "0                                   False                         True   \n",
       "1                                   False                         True   \n",
       "2                                   False                         True   \n",
       "3                                   False                         True   \n",
       "4                                   False                         True   \n",
       "\n",
       "   Participated in a religious or spiritual group_Did not answer  \\\n",
       "0                                              False               \n",
       "1                                              False               \n",
       "2                                              False               \n",
       "3                                              False               \n",
       "4                                              False               \n",
       "\n",
       "   Participated in a religious or spiritual group_No  \\\n",
       "0                                               True   \n",
       "1                                              False   \n",
       "2                                               True   \n",
       "3                                              False   \n",
       "4                                               True   \n",
       "\n",
       "   Participated in a religious or spiritual group_Not Applicable  \\\n",
       "0                                              False               \n",
       "1                                              False               \n",
       "2                                              False               \n",
       "3                                               True               \n",
       "4                                              False               \n",
       "\n",
       "   Participated in a religious or spiritual group_Yes  \n",
       "0                                              False   \n",
       "1                                               True   \n",
       "2                                              False   \n",
       "3                                              False   \n",
       "4                                              False   "
      ]
     },
     "execution_count": 38,
     "metadata": {},
     "output_type": "execute_result"
    }
   ],
   "source": [
    "encoded_df= pd.get_dummies(df, columns=[\"RLC_GroupCoded\", \"Attended a campus event\", \"Participated in a religious or spiritual group\"])\n",
    "encoded_df.head()"
   ]
  },
  {
   "cell_type": "code",
   "execution_count": null,
   "id": "c2cb834c",
   "metadata": {},
   "outputs": [
    {
     "name": "stdout",
     "output_type": "stream",
     "text": [
      "Collecting seaborn\n",
      "  Downloading seaborn-0.13.2-py3-none-any.whl (294 kB)\n",
      "     |████████████████████████████████| 294 kB 8.0 MB/s            \n",
      "\u001b[?25hRequirement already satisfied: numpy!=1.24.0,>=1.20 in ./.venv/lib/python3.9/site-packages (from seaborn) (2.0.2)\n",
      "Requirement already satisfied: matplotlib!=3.6.1,>=3.4 in ./.venv/lib/python3.9/site-packages (from seaborn) (3.9.4)\n",
      "Requirement already satisfied: pandas>=1.2 in ./.venv/lib/python3.9/site-packages (from seaborn) (2.3.1)\n",
      "Requirement already satisfied: kiwisolver>=1.3.1 in ./.venv/lib/python3.9/site-packages (from matplotlib!=3.6.1,>=3.4->seaborn) (1.4.7)\n",
      "Requirement already satisfied: importlib-resources>=3.2.0 in ./.venv/lib/python3.9/site-packages (from matplotlib!=3.6.1,>=3.4->seaborn) (6.5.2)\n",
      "Requirement already satisfied: packaging>=20.0 in ./.venv/lib/python3.9/site-packages (from matplotlib!=3.6.1,>=3.4->seaborn) (25.0)\n",
      "Requirement already satisfied: fonttools>=4.22.0 in ./.venv/lib/python3.9/site-packages (from matplotlib!=3.6.1,>=3.4->seaborn) (4.59.0)\n",
      "Requirement already satisfied: cycler>=0.10 in ./.venv/lib/python3.9/site-packages (from matplotlib!=3.6.1,>=3.4->seaborn) (0.12.1)\n",
      "Requirement already satisfied: python-dateutil>=2.7 in ./.venv/lib/python3.9/site-packages (from matplotlib!=3.6.1,>=3.4->seaborn) (2.9.0.post0)\n",
      "Requirement already satisfied: pyparsing>=2.3.1 in ./.venv/lib/python3.9/site-packages (from matplotlib!=3.6.1,>=3.4->seaborn) (3.2.3)\n",
      "Requirement already satisfied: contourpy>=1.0.1 in ./.venv/lib/python3.9/site-packages (from matplotlib!=3.6.1,>=3.4->seaborn) (1.3.0)\n",
      "Requirement already satisfied: pillow>=8 in ./.venv/lib/python3.9/site-packages (from matplotlib!=3.6.1,>=3.4->seaborn) (11.3.0)\n",
      "Requirement already satisfied: tzdata>=2022.7 in ./.venv/lib/python3.9/site-packages (from pandas>=1.2->seaborn) (2025.2)\n",
      "Requirement already satisfied: pytz>=2020.1 in ./.venv/lib/python3.9/site-packages (from pandas>=1.2->seaborn) (2025.2)\n",
      "Requirement already satisfied: zipp>=3.1.0 in ./.venv/lib/python3.9/site-packages (from importlib-resources>=3.2.0->matplotlib!=3.6.1,>=3.4->seaborn) (3.23.0)\n",
      "Requirement already satisfied: six>=1.5 in ./.venv/lib/python3.9/site-packages (from python-dateutil>=2.7->matplotlib!=3.6.1,>=3.4->seaborn) (1.17.0)\n",
      "Installing collected packages: seaborn\n",
      "Successfully installed seaborn-0.13.2\n",
      "\u001b[33mWARNING: You are using pip version 21.3.1; however, version 25.2 is available.\n",
      "You should consider upgrading via the '/home/ec2-user/projects/summer-data-analysis/.venv/bin/python -m pip install --upgrade pip' command.\u001b[0m\n"
     ]
    }
   ],
   "source": [
    "!pip install seaborn"
   ]
  },
  {
   "cell_type": "code",
   "execution_count": null,
   "id": "fd6329af",
   "metadata": {},
   "outputs": [
    {
     "data": {
      "image/png": "[encoded data removed]",
      "text/plain": [
       "<Figure size 600x400 with 2 Axes>"
      ]
     },
     "metadata": {},
     "output_type": "display_data"
    }
   ],
   "source": [
    "import matplotlib.pyplot as plt\n",
    "import seaborn as sns\n",
    "\n",
    "# Select only the columns related to 'Attended a campus event'\n",
    "attended_columns = [col for col in encoded_df.columns if col.startswith(\"Attended a campus event_\")]\n",
    "attended_df = encoded_df[attended_columns]\n",
    "\n",
    "plt.figure(figsize=(6, 4))\n",
    "sns.heatmap(attended_df.head(20), annot=True, cbar=True, cmap=\"YlGnBu\")\n",
    "plt.title(\"Heatmap of 'Attended a campus event' Encodings (First 20 Rows)\")\n",
    "plt.xlabel(\"Encoding\")\n",
    "plt.ylabel(\"Sample Index\")\n",
    "plt.show()\n"
   ]
  },
  {
   "cell_type": "code",
   "execution_count": null,
   "id": "43c6ce85",
   "metadata": {},
   "outputs": [
    {
     "data": {
      "text/plain": [
       "<Axes: xlabel='State'>"
      ]
     },
     "execution_count": 56,
     "metadata": {},
     "output_type": "execute_result"
    },
    {
     "data": {
      "image/png": "[encoded data removed]",
      "text/plain": [
       "<Figure size 640x480 with 1 Axes>"
      ]
     },
     "metadata": {},
     "output_type": "display_data"
    }
   ],
   "source": [
    "state_df = df[[\"State\"]]\n",
    "state_df.value_counts().plot(kind=\"bar\")"
   ]
  },
  {
   "cell_type": "code",
   "execution_count": null,
   "id": "f658bd36",
   "metadata": {},
   "outputs": [
    {
     "data": {
      "text/plain": [
       "0       True\n",
       "1      False\n",
       "2       True\n",
       "3       True\n",
       "4      False\n",
       "       ...  \n",
       "757     True\n",
       "758     True\n",
       "759     True\n",
       "760    False\n",
       "761     True\n",
       "Name: State, Length: 762, dtype: bool"
      ]
     },
     "execution_count": 57,
     "metadata": {},
     "output_type": "execute_result"
    }
   ],
   "source": [
    "df[\"State\"] == \"CA\""
   ]
  },
  {
   "cell_type": "code",
   "execution_count": 12,
   "id": "c4fadfdf",
   "metadata": {},
   "outputs": [
    {
     "name": "stdout",
     "output_type": "stream",
     "text": [
      "Month                                                                                                object\n",
      "RowID                                                                                                 int64\n",
      "Response ID                                                                                          object\n",
      "Overall, how satisfied are you with your experience living on campus at SDSU in the last 30 days?    object\n",
      "Please explain why you are not satisfied with your experience living on campus at SDSU:              object\n",
      "                                                                                                      ...  \n",
      "Coded_ClassLevel                                                                                     object\n",
      "Classification                                                                                       object\n",
      "Gender                                                                                               object\n",
      "Type of Building                                                                                     object\n",
      "AttendStatus                                                                                         object\n",
      "Length: 96, dtype: object\n"
     ]
    }
   ],
   "source": [
    "print(df.dtypes)"
   ]
  },
  {
   "cell_type": "code",
   "execution_count": 14,
   "id": "2caf756f",
   "metadata": {},
   "outputs": [
    {
     "data": {
      "text/plain": [
       "0      104\n",
       "1      680\n",
       "2      670\n",
       "3      273\n",
       "4      344\n",
       "      ... \n",
       "757    706\n",
       "758    563\n",
       "759    587\n",
       "760    452\n",
       "761    214\n",
       "Name: RowID, Length: 762, dtype: int64"
      ]
     },
     "execution_count": 14,
     "metadata": {},
     "output_type": "execute_result"
    }
   ],
   "source": [
    "df[\"RowID\"] + 3"
   ]
  },
  {
   "cell_type": "code",
   "execution_count": null,
   "id": "9cce7e6a",
   "metadata": {},
   "outputs": [],
   "source": [
    "df[\"in-state\"] = (df[\"State\"] == \"CA\")"
   ]
  },
  {
   "cell_type": "code",
   "execution_count": 17,
   "id": "da0c382b",
   "metadata": {},
   "outputs": [
    {
     "data": {
      "text/plain": [
       "0       True\n",
       "1      False\n",
       "2       True\n",
       "3       True\n",
       "4      False\n",
       "       ...  \n",
       "757     True\n",
       "758     True\n",
       "759     True\n",
       "760    False\n",
       "761     True\n",
       "Name: State, Length: 762, dtype: bool"
      ]
     },
     "execution_count": 17,
     "metadata": {},
     "output_type": "execute_result"
    }
   ],
   "source": [
    "df[\"State\"] == \"CA\""
   ]
  },
  {
   "cell_type": "code",
   "execution_count": null,
   "id": "16d4ca5a",
   "metadata": {},
   "outputs": [
    {
     "data": {
      "text/plain": [
       "0       True\n",
       "1      False\n",
       "2       True\n",
       "3       True\n",
       "4      False\n",
       "       ...  \n",
       "757     True\n",
       "758     True\n",
       "759     True\n",
       "760    False\n",
       "761     True\n",
       "Name: in-state, Length: 762, dtype: bool"
      ]
     },
     "execution_count": 59,
     "metadata": {},
     "output_type": "execute_result"
    }
   ],
   "source": [
    "df['in-state']"
   ]
  },
  {
   "cell_type": "code",
   "execution_count": null,
   "id": "d9c095a7",
   "metadata": {},
   "outputs": [
    {
     "data": {
      "text/plain": [
       "<Axes: xlabel='in-state'>"
      ]
     },
     "execution_count": 60,
     "metadata": {},
     "output_type": "execute_result"
    },
    {
     "data": {
      "image/png": "[encoded data removed]",
      "text/plain": [
       "<Figure size 640x480 with 1 Axes>"
      ]
     },
     "metadata": {},
     "output_type": "display_data"
    }
   ],
   "source": [
    "df[\"in-state\"].value_counts().plot(kind=\"bar\")"
   ]
  },
  {
   "cell_type": "code",
   "execution_count": null,
   "id": "336d8060",
   "metadata": {},
   "outputs": [],
   "source": []
  }
 ],
 "metadata": {
  "kernelspec": {
   "display_name": ".venv",
   "language": "python",
   "name": "python3"
  },
  "language_info": {
   "codemirror_mode": {
    "name": "ipython",
    "version": 3
   },
   "file_extension": ".py",
   "mimetype": "text/x-python",
   "name": "python",
   "nbconvert_exporter": "python",
   "pygments_lexer": "ipython3",
   "version": "3.9.23"
  }
 },
 "nbformat": 4,
 "nbformat_minor": 5
}
